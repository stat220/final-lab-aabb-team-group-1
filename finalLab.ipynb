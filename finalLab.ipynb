{
 "cells": [
  {
   "cell_type": "code",
   "execution_count": 1,
   "metadata": {},
   "outputs": [],
   "source": [
    "import numpy as np\n",
    "import pandas as pd\n",
    "import matplotlib.pyplot as plt\n",
    "import seaborn as sns\n",
    "from sklearn.linear_model import LinearRegression\n",
    "from sklearn.metrics import r2_score\n",
    "from sklearn.model_selection import train_test_split\n",
    "from sklearn.preprocessing import MinMaxScaler\n",
    "import statsmodels.api as sm\n",
    "from sklearn.metrics import mean_squared_error, r2_score, mean_absolute_error"
   ]
  },
  {
   "cell_type": "markdown",
   "metadata": {},
   "source": [
    "# Final Lab"
   ]
  },
  {
   "cell_type": "markdown",
   "metadata": {},
   "source": [
    "You are hired as data scientists by Mashable, an online news platform that generates buzz through shares of its posts. Your task is to build a model to predict the number of shares a news article will receive based on its characteristics"
   ]
  },
  {
   "cell_type": "markdown",
   "metadata": {},
   "source": [
    "## EDA"
   ]
  },
  {
   "cell_type": "markdown",
   "metadata": {},
   "source": [
    "1. Plot the target variable. Determine if the target variable seems appropriate or if\n",
    "any transformations are needed.\n",
    "2. Build a linear regression model without higher-order terms and identify the most\n",
    "significant predictors.\n",
    "3. Build a regression tree to identify important predictors.\n",
    "1\n",
    "4. Select several significant features from steps 2 and 3. Create visualizations or\n",
    "tables to explore the relationships between these features and the target variable.\n",
    "5. Write an EDA section in your technical report. Report the results of the ini-\n",
    "tial models and include figures or tables that show the target variable and its\n",
    "relationship with potentially significant predictors.\n",
    "6. Use appropriate methods to remove insignificant variables from the model."
   ]
  },
  {
   "cell_type": "markdown",
   "metadata": {},
   "source": [
    "#### Plot Target Variables"
   ]
  },
  {
   "cell_type": "code",
   "execution_count": null,
   "metadata": {},
   "outputs": [],
   "source": []
  },
  {
   "cell_type": "markdown",
   "metadata": {},
   "source": [
    "#### Build Regression Tree"
   ]
  },
  {
   "cell_type": "code",
   "execution_count": null,
   "metadata": {},
   "outputs": [],
   "source": []
  },
  {
   "cell_type": "markdown",
   "metadata": {},
   "source": [
    "#### Additional Relationship Visualizations and Analysis"
   ]
  },
  {
   "cell_type": "code",
   "execution_count": null,
   "metadata": {},
   "outputs": [],
   "source": []
  },
  {
   "cell_type": "markdown",
   "metadata": {},
   "source": []
  },
  {
   "cell_type": "markdown",
   "metadata": {},
   "source": [
    "## Linear Regression Modeling"
   ]
  },
  {
   "cell_type": "markdown",
   "metadata": {},
   "source": [
    "Build and tune a linear regression model with high\n",
    "predictive power, explaining to Mashable which features most influence the number of\n",
    "shares.\n",
    "1. Split the data into training and testing sets. Use the training set for model fitting\n",
    "and the testing set to check for overfitting and predictive performance.\n",
    "2. Explore transformations of the target and other variables.\n",
    "3. Explore higher-order terms.\n",
    "4. Reduce the model using the following methods:\n",
    "•Stepwise model evaluation methods to remove insignificant variables.\n",
    "•LASSO regression to fit the full model and remove insignificant variables.\n",
    "Tune the model to find the best α.\n",
    "5. Write a section in your technical report that reports the out-of-sample perfor-\n",
    "mance of the models. Discuss the most significant predictors and evaluate the\n",
    "model?s usefulness for predicting future shares"
   ]
  },
  {
   "cell_type": "code",
   "execution_count": null,
   "metadata": {},
   "outputs": [],
   "source": []
  },
  {
   "cell_type": "markdown",
   "metadata": {},
   "source": [
    "## Regression Tree Modeling"
   ]
  },
  {
   "cell_type": "markdown",
   "metadata": {},
   "source": [
    "Build and tune a regression tree model.\n",
    "1. Use the same training and testing sets as above.\n",
    "2. Use cost-complexity pruning and cross-validation to find a model that fits well\n",
    "on out-of-sample data.\n",
    "3. Fit a random forest regression model, using cost-complexity pruning for the in-\n",
    "dividual trees.\n",
    "4. Write a section in your technical report that reports the out-of-sample perfor-\n",
    "mance of the models. Discuss the model’s usefulness for predicting future shares."
   ]
  },
  {
   "cell_type": "code",
   "execution_count": null,
   "metadata": {},
   "outputs": [],
   "source": []
  },
  {
   "cell_type": "markdown",
   "metadata": {},
   "source": [
    "## Conclusion"
   ]
  },
  {
   "cell_type": "markdown",
   "metadata": {},
   "source": [
    "Compare each model’s predictive accuracy on the test set. Choose the\n",
    "best-performing model as the final predictive model. Write a concluding section in\n",
    "your technical report that addresses Mashable?s business concerns and presents your\n",
    "final model along with your confidence in its predictions.\n",
    "2"
   ]
  },
  {
   "cell_type": "markdown",
   "metadata": {},
   "source": []
  }
 ],
 "metadata": {
  "kernelspec": {
   "display_name": "base",
   "language": "python",
   "name": "python3"
  },
  "language_info": {
   "codemirror_mode": {
    "name": "ipython",
    "version": 3
   },
   "file_extension": ".py",
   "mimetype": "text/x-python",
   "name": "python",
   "nbconvert_exporter": "python",
   "pygments_lexer": "ipython3",
   "version": "3.11.4"
  }
 },
 "nbformat": 4,
 "nbformat_minor": 2
}
